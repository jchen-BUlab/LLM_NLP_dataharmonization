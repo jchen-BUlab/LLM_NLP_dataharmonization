{
 "cells": [
  {
   "cell_type": "markdown",
   "id": "154327a1-4f5d-4c1d-a5ee-c8086a3e0a1b",
   "metadata": {},
   "source": [
    "# A Large Language Model-based tool to facilitate data harmonization: summarize results"
   ]
  },
  {
   "cell_type": "code",
   "execution_count": 52,
   "id": "77677df0-8e65-4a5a-ba81-528a03c460db",
   "metadata": {},
   "outputs": [],
   "source": [
    "#****************************************\n",
    "# MIT License\n",
    "# Copyright (c) 2025 Zexu Li, Jinying Chen\n",
    "#  \n",
    "# author(s): Zexu Li, Jinying Chen, Boston University Chobanian & Avedisian School of Medicine\n",
    "# date: 2025-7-7\n",
    "# ver: 1.0\n",
    "# \n",
    "# This code was written to support data analysis for the Data Harmonization Using Natural Language \n",
    "# Processing (NLP harmonization) project and the 2025 paper published in PLOS One.\n",
    "# The code is for research use only, and is provided as it is.\n",
    "# "
   ]
  },
  {
   "cell_type": "code",
   "execution_count": 53,
   "id": "340c7ec8-f894-4229-a23c-0aa546516971",
   "metadata": {},
   "outputs": [],
   "source": [
    "from IPython.core.interactiveshell import InteractiveShell\n",
    "InteractiveShell.ast_node_interactivity = \"all\""
   ]
  },
  {
   "cell_type": "code",
   "execution_count": 54,
   "id": "3b825f57-2b38-4aea-a042-0d82041bae7d",
   "metadata": {},
   "outputs": [],
   "source": [
    "import os\n",
    "import re\n",
    "import pandas as pd\n",
    "import numpy as np\n",
    "import scipy.stats as stats\n",
    "import pickle"
   ]
  },
  {
   "cell_type": "code",
   "execution_count": 55,
   "id": "dd04ca31-8de9-4fa1-9eb1-0b849fec4166",
   "metadata": {},
   "outputs": [],
   "source": [
    "datadir = \"[path to input data]\""
   ]
  },
  {
   "cell_type": "code",
   "execution_count": 56,
   "id": "f2f4944f",
   "metadata": {},
   "outputs": [],
   "source": [
    "def mean_diff_ci(col1, col2, confidence=0.95):\n",
    "    \"\"\"\n",
    "    Calculate the mean difference and confidence interval for paired samples.\n",
    "\n",
    "    Parameters:\n",
    "    - col1, col2: array-like, two paired samples (same length)\n",
    "    - confidence: float, confidence level (default 0.95)\n",
    "\n",
    "    Returns:\n",
    "    - mean_diff: float, mean of the differences\n",
    "    - ci: tuple, lower and upper bound of the confidence interval\n",
    "    \"\"\"\n",
    "    col1 = np.asarray(col1)\n",
    "    col2 = np.asarray(col2)\n",
    "    \n",
    "    if col1.shape != col2.shape:\n",
    "        raise ValueError(\"Input arrays must have the same shape.\")\n",
    "    \n",
    "    diff = col1 - col2\n",
    "    mean_diff = np.mean(diff)\n",
    "    sem_diff = stats.sem(diff)\n",
    "    df = len(diff) - 1\n",
    "    t_crit = stats.t.ppf((1 + confidence) / 2, df)\n",
    "    margin = t_crit * sem_diff\n",
    "    ci = (mean_diff - margin, mean_diff + margin)\n",
    "    \n",
    "    return mean_diff, ci"
   ]
  },
  {
   "cell_type": "code",
   "execution_count": 57,
   "id": "c1df6025-5c48-4751-a3ce-7ea60176efea",
   "metadata": {},
   "outputs": [],
   "source": [
    "def ci_of_one_sample(data, confidence = 0.95):\n",
    "    # 95% CI using t-distribution\n",
    "    confidence = confidence\n",
    "    # Sample statistics\n",
    "    mean = np.mean(data)\n",
    "    sem = stats.sem(data)  # Standard error of the mean\n",
    "\n",
    "    df = len(data) - 1  # degrees of freedom\n",
    "    t_crit = stats.t.ppf((1 + confidence) / 2, df)\n",
    "    margin = t_crit * sem\n",
    "    \n",
    "    ci_lower = mean - margin\n",
    "    ci_upper = mean + margin\n",
    "    \n",
    "    print(f\"Mean: {mean:.6f}\")\n",
    "    print(f\"95% CI: ({ci_lower:.6f}, {ci_upper:.6f})\")"
   ]
  },
  {
   "cell_type": "code",
   "execution_count": 58,
   "id": "64a839fd-8625-4973-b98f-16d9e65c11ef",
   "metadata": {},
   "outputs": [],
   "source": [
    "def extract_performance_scores(file_path, modelname, trial):\n",
    "    with open(file_path, 'r') as file:\n",
    "        lines = file.readlines()\n",
    "\n",
    "    optimize_opts = [\"opt_HR\", \"opt_MRR\", \"opt_uniq_HR\"]\n",
    "    eval_relts = {}\n",
    "    eval_relts[modelname] = []\n",
    "    eval_relts['e5'] = []\n",
    "    eval_relts['optimize_opt'] = []\n",
    "    eval_relts['metric'] = []\n",
    "    \n",
    "    \n",
    "    j = 0\n",
    "    for i, line in enumerate(lines):\n",
    "        if re.search(\"^Best Grid:\", line):\n",
    "            #print(line)\n",
    "            (HR30, HR20, HR10, HR5, MRR) = re.search(r\"unique_HR:([0-9\\.]+),([0-9\\.]+),([0-9\\.]+),([0-9\\.]+), MRR:([0-9\\.]+)\", line).groups()\n",
    "            opt = optimize_opts[j]\n",
    "            \n",
    "            eval_relts['optimize_opt'] += [opt] * 5\n",
    "            eval_relts[modelname].append(float(HR30))\n",
    "            eval_relts['metric'].append(\"HR30\")\n",
    "            eval_relts[modelname].append(float(HR20))\n",
    "            eval_relts['metric'].append(\"HR20\")\n",
    "            eval_relts[modelname].append(float(HR10))\n",
    "            eval_relts['metric'].append(\"HR10\")\n",
    "            eval_relts[modelname].append(float(HR5))\n",
    "            eval_relts['metric'].append(\"HR5\")\n",
    "            eval_relts[modelname].append(float(MRR))\n",
    "            eval_relts['metric'].append(\"MRR\")\n",
    "            \n",
    "        elif re.search(\"^New E5,\", line):\n",
    "            (HR30, HR20, HR10, HR5, MRR) = re.search(r\"unique_HR:([0-9\\.]+),([0-9\\.]+),([0-9\\.]+),([0-9\\.]+), MRR:([0-9\\.]+)\", line).groups()\n",
    "            opt = optimize_opts[j]\n",
    "\n",
    "            eval_relts['e5'].append(float(HR30))\n",
    "            eval_relts['e5'].append(float(HR20))\n",
    "            eval_relts['e5'].append(float(HR10))\n",
    "            eval_relts['e5'].append(float(HR5))\n",
    "            eval_relts['e5'].append(float(MRR))\n",
    "            \n",
    "            j+=1\n",
    "        \n",
    "    eval_relts['trial'] = [trial] * len(eval_relts[modelname])\n",
    "    eval_relts['file_name'] = [file_path] * len(eval_relts[modelname])\n",
    "\n",
    "    '''\n",
    "    print(eval_relts)\n",
    "    for key in eval_relts.keys() :\n",
    "        print(f\"{key}: {len(eval_relts[key])} elements\")\n",
    "    '''\n",
    "    df = pd.DataFrame(eval_relts)\n",
    "    \n",
    "    return(df)"
   ]
  },
  {
   "cell_type": "code",
   "execution_count": 59,
   "id": "b8422c01-45c0-4056-b9d8-07af8b2294cf",
   "metadata": {},
   "outputs": [],
   "source": [
    "def extract_scores_from_folder(model_output_path, model_name):\n",
    "    df_ls = []\n",
    "    trial = 1\n",
    "    for file_name in sorted(os.listdir(model_output_path)):\n",
    "        if file_name.endswith('.txt') and file_name.startswith('output'):\n",
    "            file_path = os.path.join(model_output_path, file_name)\n",
    "            #(trial) = re.search(r\"output([0-9]+).txt$\", file_name).group(1)\n",
    "            print(f\"trial No mapping: {trial} -> {file_name}\")\n",
    "            df = extract_performance_scores(file_path, model_name, trial)\n",
    "            df_ls.append(df)\n",
    "            trial += 1\n",
    "    \n",
    "    \n",
    "    combined_df = pd.concat(df_ls, axis=0, ignore_index=True)\n",
    "    \n",
    "    combined_df.tail()\n",
    "    return (combined_df)"
   ]
  },
  {
   "cell_type": "code",
   "execution_count": 60,
   "id": "c916e3f9-5d16-40b2-9274-fdd78366e7ae",
   "metadata": {},
   "outputs": [],
   "source": [
    "def extract_scores(combined_df, optimize_opt = \"opt_uniq_HR\", models = [\"RF\", \"e5\"]):\n",
    "    file_info = combined_df[['trial', 'file_name']].drop_duplicates()\n",
    "    \n",
    "    wide_df = combined_df[ (combined_df[\"optimize_opt\"] == optimize_opt) ].pivot(index='trial', columns='metric', values=models)\n",
    "    \n",
    "    #wide_df.columns\n",
    "\n",
    "    wide_df.columns = [f'{val}_{col}' for val, col in wide_df.columns]\n",
    "    wide_df = wide_df.reset_index()\n",
    "\n",
    "    final_df = pd.merge(file_info, wide_df, on='trial')\n",
    "\n",
    "    return(final_df)"
   ]
  },
  {
   "cell_type": "markdown",
   "id": "1a30d460-7f69-4935-a5bf-1397833a8aac",
   "metadata": {},
   "source": [
    "## Table 4 "
   ]
  },
  {
   "cell_type": "code",
   "execution_count": 61,
   "id": "849e1315-ec86-4501-951a-39dbde4fe612",
   "metadata": {},
   "outputs": [],
   "source": [
    "model_output_file = datadir + \"/E5_RFonHR_comparison_50trials_res.csv\"\n",
    "\n",
    "df1 = pd.read_csv(model_output_file)\n",
    "\n",
    "#df1\n",
    "\n",
    "df = df1.drop(columns=['E5_File', 'File_name'])\n",
    "\n",
    "#df"
   ]
  },
  {
   "cell_type": "code",
   "execution_count": 62,
   "id": "8ddcd230-8bf9-4ed8-b91c-758ac6aa95aa",
   "metadata": {},
   "outputs": [
    {
     "data": {
      "text/html": [
       "<div>\n",
       "<style scoped>\n",
       "    .dataframe tbody tr th:only-of-type {\n",
       "        vertical-align: middle;\n",
       "    }\n",
       "\n",
       "    .dataframe tbody tr th {\n",
       "        vertical-align: top;\n",
       "    }\n",
       "\n",
       "    .dataframe thead th {\n",
       "        text-align: right;\n",
       "    }\n",
       "</style>\n",
       "<table border=\"1\" class=\"dataframe\">\n",
       "  <thead>\n",
       "    <tr style=\"text-align: right;\">\n",
       "      <th></th>\n",
       "      <th>mean</th>\n",
       "      <th>std</th>\n",
       "    </tr>\n",
       "  </thead>\n",
       "  <tbody>\n",
       "    <tr>\n",
       "      <th>E5_Unique_HR_30</th>\n",
       "      <td>0.910857</td>\n",
       "      <td>0.028507</td>\n",
       "    </tr>\n",
       "    <tr>\n",
       "      <th>E5_Unique_HR_20</th>\n",
       "      <td>0.904571</td>\n",
       "      <td>0.027899</td>\n",
       "    </tr>\n",
       "    <tr>\n",
       "      <th>E5_Unique_HR_10</th>\n",
       "      <td>0.871143</td>\n",
       "      <td>0.034452</td>\n",
       "    </tr>\n",
       "    <tr>\n",
       "      <th>E5_Unique_HR_5</th>\n",
       "      <td>0.803143</td>\n",
       "      <td>0.040436</td>\n",
       "    </tr>\n",
       "    <tr>\n",
       "      <th>E5_MRR</th>\n",
       "      <td>0.658849</td>\n",
       "      <td>0.044175</td>\n",
       "    </tr>\n",
       "    <tr>\n",
       "      <th>top_30_HR_whole</th>\n",
       "      <td>0.986000</td>\n",
       "      <td>0.012410</td>\n",
       "    </tr>\n",
       "    <tr>\n",
       "      <th>top_20_whole</th>\n",
       "      <td>0.974857</td>\n",
       "      <td>0.017211</td>\n",
       "    </tr>\n",
       "    <tr>\n",
       "      <th>top_10_whole</th>\n",
       "      <td>0.929429</td>\n",
       "      <td>0.026673</td>\n",
       "    </tr>\n",
       "    <tr>\n",
       "      <th>top_5_whole</th>\n",
       "      <td>0.872000</td>\n",
       "      <td>0.038176</td>\n",
       "    </tr>\n",
       "    <tr>\n",
       "      <th>MRR_whole</th>\n",
       "      <td>0.744448</td>\n",
       "      <td>0.036333</td>\n",
       "    </tr>\n",
       "  </tbody>\n",
       "</table>\n",
       "</div>"
      ],
      "text/plain": [
       "                     mean       std\n",
       "E5_Unique_HR_30  0.910857  0.028507\n",
       "E5_Unique_HR_20  0.904571  0.027899\n",
       "E5_Unique_HR_10  0.871143  0.034452\n",
       "E5_Unique_HR_5   0.803143  0.040436\n",
       "E5_MRR           0.658849  0.044175\n",
       "top_30_HR_whole  0.986000  0.012410\n",
       "top_20_whole     0.974857  0.017211\n",
       "top_10_whole     0.929429  0.026673\n",
       "top_5_whole      0.872000  0.038176\n",
       "MRR_whole        0.744448  0.036333"
      ]
     },
     "execution_count": 62,
     "metadata": {},
     "output_type": "execute_result"
    }
   ],
   "source": [
    "summary = pd.DataFrame({\n",
    "    'mean': df.mean(),\n",
    "    'std': df.std(ddof=1)  # ddof=1 for sample standard deviation\n",
    "})\n",
    "\n",
    "summary"
   ]
  },
  {
   "cell_type": "code",
   "execution_count": 63,
   "id": "0ccc40f1-c89a-4d6f-a10f-b01f1db4c8d7",
   "metadata": {},
   "outputs": [
    {
     "name": "stdout",
     "output_type": "stream",
     "text": [
      "HR30: t-statistic: 17.8974, p-value: 0.0000\n",
      "HR20: t-statistic: 17.7762, p-value: 0.0000\n",
      "HR10: t-statistic: 11.9482, p-value: 0.0000\n",
      "HR5: t-statistic: 13.6974, p-value: 0.0000\n",
      "MRR: t-statistic: 18.2350, p-value: 0.0000\n"
     ]
    }
   ],
   "source": [
    "# Paired t-test\n",
    "t_stat, p_value = stats.ttest_rel(df[\"top_30_HR_whole\"], df[\"E5_Unique_HR_30\"])\n",
    "print(f\"HR30: t-statistic: {t_stat:.4f}, p-value: {p_value:.4f}\")\n",
    "t_stat, p_value = stats.ttest_rel(df[\"top_20_whole\"], df[\"E5_Unique_HR_20\"])\n",
    "print(f\"HR20: t-statistic: {t_stat:.4f}, p-value: {p_value:.4f}\")\n",
    "t_stat, p_value = stats.ttest_rel(df[\"top_10_whole\"], df[\"E5_Unique_HR_10\"])\n",
    "print(f\"HR10: t-statistic: {t_stat:.4f}, p-value: {p_value:.4f}\")\n",
    "t_stat, p_value = stats.ttest_rel(df[\"top_5_whole\"], df[\"E5_Unique_HR_5\"])\n",
    "print(f\"HR5: t-statistic: {t_stat:.4f}, p-value: {p_value:.4f}\")\n",
    "t_stat, p_value = stats.ttest_rel(df[\"MRR_whole\"], df[\"E5_MRR\"])\n",
    "print(f\"MRR: t-statistic: {t_stat:.4f}, p-value: {p_value:.4f}\")"
   ]
  },
  {
   "cell_type": "code",
   "execution_count": 64,
   "id": "6d4e7646-b705-4df9-ad67-9bf8768ed6e9",
   "metadata": {},
   "outputs": [
    {
     "data": {
      "text/plain": [
       "(0.07514285715999997, (0.06670559497995944, 0.08358011934004049))"
      ]
     },
     "execution_count": 64,
     "metadata": {},
     "output_type": "execute_result"
    },
    {
     "data": {
      "text/plain": [
       "(0.07028571419999997, (0.062340013789207435, 0.07823141461079251))"
      ]
     },
     "execution_count": 64,
     "metadata": {},
     "output_type": "execute_result"
    },
    {
     "data": {
      "text/plain": [
       "(0.05828571439999999, (0.048482621756140806, 0.06808880704385917))"
      ]
     },
     "execution_count": 64,
     "metadata": {},
     "output_type": "execute_result"
    },
    {
     "data": {
      "text/plain": [
       "(0.0688571428, (0.05875492648065321, 0.0789593591193468))"
      ]
     },
     "execution_count": 64,
     "metadata": {},
     "output_type": "execute_result"
    },
    {
     "data": {
      "text/plain": [
       "(0.08559866773999998, (0.07616534944608044, 0.09503198603391952))"
      ]
     },
     "execution_count": 64,
     "metadata": {},
     "output_type": "execute_result"
    }
   ],
   "source": [
    "mean_diff_ci(df[\"top_30_HR_whole\"], df[\"E5_Unique_HR_30\"], confidence=0.95)\n",
    "mean_diff_ci(df[\"top_20_whole\"], df[\"E5_Unique_HR_20\"], confidence=0.95)\n",
    "mean_diff_ci(df[\"top_10_whole\"], df[\"E5_Unique_HR_10\"], confidence=0.95)\n",
    "mean_diff_ci(df[\"top_5_whole\"], df[\"E5_Unique_HR_5\"], confidence=0.95)\n",
    "mean_diff_ci(df[\"MRR_whole\"], df[\"E5_MRR\"], confidence=0.95)"
   ]
  },
  {
   "cell_type": "markdown",
   "id": "338de4b8-493f-4685-b80a-61547e1f7849",
   "metadata": {},
   "source": [
    "### Results from the orginal 50 MT trials (sensitivity analysis for Table 4, not reported in paper)  "
   ]
  },
  {
   "cell_type": "code",
   "execution_count": 65,
   "id": "61eeff98-18a7-43ee-8f8c-5e5337494b3b",
   "metadata": {},
   "outputs": [
    {
     "data": {
      "text/plain": [
       "' The Random Forest model may produce slightly different results each time, even when using the same set of hyperparameters, \\ndue to its inherent randomness.\\n\\nTable 4 reports the results from retraining the Random Forest model using the optimal hyperparameters obtained from the original 50 trials. \\nThese results differed slightly from the original outputs (only in the last decimal place), but did not affect the conclusions.\\n'"
      ]
     },
     "execution_count": 65,
     "metadata": {},
     "output_type": "execute_result"
    }
   ],
   "source": [
    "''' The Random Forest model may produce slightly different results each time, even when using the same set of hyperparameters, \n",
    "due to its inherent randomness.\n",
    "\n",
    "Table 4 reports the results from retraining the Random Forest model using the optimal hyperparameters obtained from the original 50 trials. \n",
    "These results differed slightly from the original outputs (only in the last decimal place), but did not affect the conclusions.\n",
    "'''"
   ]
  },
  {
   "cell_type": "code",
   "execution_count": 66,
   "id": "c1378359-9a6e-4766-9007-cb4b14acd845",
   "metadata": {},
   "outputs": [
    {
     "name": "stdout",
     "output_type": "stream",
     "text": [
      "trial No mapping: 1 -> output1.txt\n",
      "trial No mapping: 2 -> output10.txt\n",
      "trial No mapping: 3 -> output11.txt\n",
      "trial No mapping: 4 -> output12.txt\n",
      "trial No mapping: 5 -> output13.txt\n",
      "trial No mapping: 6 -> output14.txt\n",
      "trial No mapping: 7 -> output15.txt\n",
      "trial No mapping: 8 -> output16.txt\n",
      "trial No mapping: 9 -> output17.txt\n",
      "trial No mapping: 10 -> output18.txt\n",
      "trial No mapping: 11 -> output19.txt\n",
      "trial No mapping: 12 -> output2.txt\n",
      "trial No mapping: 13 -> output20.txt\n",
      "trial No mapping: 14 -> output21.txt\n",
      "trial No mapping: 15 -> output22.txt\n",
      "trial No mapping: 16 -> output23.txt\n",
      "trial No mapping: 17 -> output24.txt\n",
      "trial No mapping: 18 -> output25.txt\n",
      "trial No mapping: 19 -> output26.txt\n",
      "trial No mapping: 20 -> output27.txt\n",
      "trial No mapping: 21 -> output28.txt\n",
      "trial No mapping: 22 -> output29.txt\n",
      "trial No mapping: 23 -> output3.txt\n",
      "trial No mapping: 24 -> output30.txt\n",
      "trial No mapping: 25 -> output31.txt\n",
      "trial No mapping: 26 -> output32.txt\n",
      "trial No mapping: 27 -> output33.txt\n",
      "trial No mapping: 28 -> output34.txt\n",
      "trial No mapping: 29 -> output35.txt\n",
      "trial No mapping: 30 -> output36.txt\n",
      "trial No mapping: 31 -> output37.txt\n",
      "trial No mapping: 32 -> output38.txt\n",
      "trial No mapping: 33 -> output39.txt\n",
      "trial No mapping: 34 -> output4.txt\n",
      "trial No mapping: 35 -> output40.txt\n",
      "trial No mapping: 36 -> output41.txt\n",
      "trial No mapping: 37 -> output42.txt\n",
      "trial No mapping: 38 -> output43.txt\n",
      "trial No mapping: 39 -> output44.txt\n",
      "trial No mapping: 40 -> output45.txt\n",
      "trial No mapping: 41 -> output46.txt\n",
      "trial No mapping: 42 -> output47.txt\n",
      "trial No mapping: 43 -> output48.txt\n",
      "trial No mapping: 44 -> output49.txt\n",
      "trial No mapping: 45 -> output5.txt\n",
      "trial No mapping: 46 -> output50.txt\n",
      "trial No mapping: 47 -> output6.txt\n",
      "trial No mapping: 48 -> output7.txt\n",
      "trial No mapping: 49 -> output8.txt\n",
      "trial No mapping: 50 -> output9.txt\n"
     ]
    },
    {
     "data": {
      "text/html": [
       "<div>\n",
       "<style scoped>\n",
       "    .dataframe tbody tr th:only-of-type {\n",
       "        vertical-align: middle;\n",
       "    }\n",
       "\n",
       "    .dataframe tbody tr th {\n",
       "        vertical-align: top;\n",
       "    }\n",
       "\n",
       "    .dataframe thead th {\n",
       "        text-align: right;\n",
       "    }\n",
       "</style>\n",
       "<table border=\"1\" class=\"dataframe\">\n",
       "  <thead>\n",
       "    <tr style=\"text-align: right;\">\n",
       "      <th></th>\n",
       "      <th>RF</th>\n",
       "      <th>e5</th>\n",
       "      <th>optimize_opt</th>\n",
       "      <th>metric</th>\n",
       "      <th>trial</th>\n",
       "      <th>file_name</th>\n",
       "    </tr>\n",
       "  </thead>\n",
       "  <tbody>\n",
       "    <tr>\n",
       "      <th>745</th>\n",
       "      <td>1.000000</td>\n",
       "      <td>0.957143</td>\n",
       "      <td>opt_uniq_HR</td>\n",
       "      <td>HR30</td>\n",
       "      <td>50</td>\n",
       "      <td>/restricted/projectnb/fhs-std-chen/jchen/code_...</td>\n",
       "    </tr>\n",
       "    <tr>\n",
       "      <th>746</th>\n",
       "      <td>1.000000</td>\n",
       "      <td>0.942857</td>\n",
       "      <td>opt_uniq_HR</td>\n",
       "      <td>HR20</td>\n",
       "      <td>50</td>\n",
       "      <td>/restricted/projectnb/fhs-std-chen/jchen/code_...</td>\n",
       "    </tr>\n",
       "    <tr>\n",
       "      <th>747</th>\n",
       "      <td>0.942857</td>\n",
       "      <td>0.900000</td>\n",
       "      <td>opt_uniq_HR</td>\n",
       "      <td>HR10</td>\n",
       "      <td>50</td>\n",
       "      <td>/restricted/projectnb/fhs-std-chen/jchen/code_...</td>\n",
       "    </tr>\n",
       "    <tr>\n",
       "      <th>748</th>\n",
       "      <td>0.900000</td>\n",
       "      <td>0.842857</td>\n",
       "      <td>opt_uniq_HR</td>\n",
       "      <td>HR5</td>\n",
       "      <td>50</td>\n",
       "      <td>/restricted/projectnb/fhs-std-chen/jchen/code_...</td>\n",
       "    </tr>\n",
       "    <tr>\n",
       "      <th>749</th>\n",
       "      <td>0.730895</td>\n",
       "      <td>0.689515</td>\n",
       "      <td>opt_uniq_HR</td>\n",
       "      <td>MRR</td>\n",
       "      <td>50</td>\n",
       "      <td>/restricted/projectnb/fhs-std-chen/jchen/code_...</td>\n",
       "    </tr>\n",
       "  </tbody>\n",
       "</table>\n",
       "</div>"
      ],
      "text/plain": [
       "           RF        e5 optimize_opt metric  trial  \\\n",
       "745  1.000000  0.957143  opt_uniq_HR   HR30     50   \n",
       "746  1.000000  0.942857  opt_uniq_HR   HR20     50   \n",
       "747  0.942857  0.900000  opt_uniq_HR   HR10     50   \n",
       "748  0.900000  0.842857  opt_uniq_HR    HR5     50   \n",
       "749  0.730895  0.689515  opt_uniq_HR    MRR     50   \n",
       "\n",
       "                                             file_name  \n",
       "745  /restricted/projectnb/fhs-std-chen/jchen/code_...  \n",
       "746  /restricted/projectnb/fhs-std-chen/jchen/code_...  \n",
       "747  /restricted/projectnb/fhs-std-chen/jchen/code_...  \n",
       "748  /restricted/projectnb/fhs-std-chen/jchen/code_...  \n",
       "749  /restricted/projectnb/fhs-std-chen/jchen/code_...  "
      ]
     },
     "execution_count": 66,
     "metadata": {},
     "output_type": "execute_result"
    }
   ],
   "source": [
    "# extract e5 and RF results from original trials\n",
    "model_output_path = datadir + \"/02232025res_v2/\"\n",
    "model_name = \"RF\"\n",
    "\n",
    "combined_df = extract_scores_from_folder(model_output_path, model_name)\n",
    "\n",
    "combined_df.tail()"
   ]
  },
  {
   "cell_type": "code",
   "execution_count": 67,
   "id": "384ba6ab-16e0-42e0-a601-25583e7545d1",
   "metadata": {},
   "outputs": [
    {
     "data": {
      "text/html": [
       "<div>\n",
       "<style scoped>\n",
       "    .dataframe tbody tr th:only-of-type {\n",
       "        vertical-align: middle;\n",
       "    }\n",
       "\n",
       "    .dataframe tbody tr th {\n",
       "        vertical-align: top;\n",
       "    }\n",
       "\n",
       "    .dataframe thead th {\n",
       "        text-align: right;\n",
       "    }\n",
       "</style>\n",
       "<table border=\"1\" class=\"dataframe\">\n",
       "  <thead>\n",
       "    <tr style=\"text-align: right;\">\n",
       "      <th></th>\n",
       "      <th>mean</th>\n",
       "      <th>std</th>\n",
       "    </tr>\n",
       "  </thead>\n",
       "  <tbody>\n",
       "    <tr>\n",
       "      <th>trial</th>\n",
       "      <td>25.500000</td>\n",
       "      <td>14.577380</td>\n",
       "    </tr>\n",
       "    <tr>\n",
       "      <th>RF_HR10</th>\n",
       "      <td>0.927714</td>\n",
       "      <td>0.027291</td>\n",
       "    </tr>\n",
       "    <tr>\n",
       "      <th>RF_HR20</th>\n",
       "      <td>0.973714</td>\n",
       "      <td>0.013648</td>\n",
       "    </tr>\n",
       "    <tr>\n",
       "      <th>RF_HR30</th>\n",
       "      <td>0.986857</td>\n",
       "      <td>0.012527</td>\n",
       "    </tr>\n",
       "    <tr>\n",
       "      <th>RF_HR5</th>\n",
       "      <td>0.873143</td>\n",
       "      <td>0.036122</td>\n",
       "    </tr>\n",
       "    <tr>\n",
       "      <th>RF_MRR</th>\n",
       "      <td>0.744401</td>\n",
       "      <td>0.037811</td>\n",
       "    </tr>\n",
       "    <tr>\n",
       "      <th>e5_HR10</th>\n",
       "      <td>0.871143</td>\n",
       "      <td>0.034452</td>\n",
       "    </tr>\n",
       "    <tr>\n",
       "      <th>e5_HR20</th>\n",
       "      <td>0.904571</td>\n",
       "      <td>0.027899</td>\n",
       "    </tr>\n",
       "    <tr>\n",
       "      <th>e5_HR30</th>\n",
       "      <td>0.910857</td>\n",
       "      <td>0.028507</td>\n",
       "    </tr>\n",
       "    <tr>\n",
       "      <th>e5_HR5</th>\n",
       "      <td>0.803143</td>\n",
       "      <td>0.040436</td>\n",
       "    </tr>\n",
       "    <tr>\n",
       "      <th>e5_MRR</th>\n",
       "      <td>0.658849</td>\n",
       "      <td>0.044175</td>\n",
       "    </tr>\n",
       "  </tbody>\n",
       "</table>\n",
       "</div>"
      ],
      "text/plain": [
       "              mean        std\n",
       "trial    25.500000  14.577380\n",
       "RF_HR10   0.927714   0.027291\n",
       "RF_HR20   0.973714   0.013648\n",
       "RF_HR30   0.986857   0.012527\n",
       "RF_HR5    0.873143   0.036122\n",
       "RF_MRR    0.744401   0.037811\n",
       "e5_HR10   0.871143   0.034452\n",
       "e5_HR20   0.904571   0.027899\n",
       "e5_HR30   0.910857   0.028507\n",
       "e5_HR5    0.803143   0.040436\n",
       "e5_MRR    0.658849   0.044175"
      ]
     },
     "execution_count": 67,
     "metadata": {},
     "output_type": "execute_result"
    }
   ],
   "source": [
    "df1 = extract_scores(combined_df, \"opt_uniq_HR\", models = [\"RF\", \"e5\"])\n",
    "df = df1.drop(columns=['file_name'])\n",
    "summary = pd.DataFrame({\n",
    "    'mean': df.mean(),\n",
    "    'std': df.std(ddof=1)  # ddof=1 for sample standard deviation\n",
    "})\n",
    "\n",
    "summary"
   ]
  },
  {
   "cell_type": "code",
   "execution_count": 68,
   "id": "ebab36a3-f81b-48c3-aac2-808f2ed7453d",
   "metadata": {},
   "outputs": [
    {
     "name": "stdout",
     "output_type": "stream",
     "text": [
      "HR30: t-statistic: 17.2555, p-value: 0.0000\n",
      "HR20: t-statistic: 17.6267, p-value: 0.0000\n",
      "HR10: t-statistic: 10.9587, p-value: 0.0000\n",
      "HR5: t-statistic: 14.1813, p-value: 0.0000\n",
      "MRR: t-statistic: 17.6433, p-value: 0.0000\n"
     ]
    }
   ],
   "source": [
    "# Paired t-test\n",
    "t_stat, p_value = stats.ttest_rel(df[\"RF_HR30\"], df[\"e5_HR30\"])\n",
    "print(f\"HR30: t-statistic: {t_stat:.4f}, p-value: {p_value:.4f}\")\n",
    "t_stat, p_value = stats.ttest_rel(df[\"RF_HR20\"], df[\"e5_HR20\"])\n",
    "print(f\"HR20: t-statistic: {t_stat:.4f}, p-value: {p_value:.4f}\")\n",
    "t_stat, p_value = stats.ttest_rel(df[\"RF_HR10\"], df[\"e5_HR10\"])\n",
    "print(f\"HR10: t-statistic: {t_stat:.4f}, p-value: {p_value:.4f}\")\n",
    "t_stat, p_value = stats.ttest_rel(df[\"RF_HR5\"], df[\"e5_HR5\"])\n",
    "print(f\"HR5: t-statistic: {t_stat:.4f}, p-value: {p_value:.4f}\")\n",
    "t_stat, p_value = stats.ttest_rel(df[\"RF_MRR\"], df[\"e5_MRR\"])\n",
    "print(f\"MRR: t-statistic: {t_stat:.4f}, p-value: {p_value:.4f}\")"
   ]
  },
  {
   "cell_type": "code",
   "execution_count": 69,
   "id": "770d4e86-eb0e-467c-b00f-6af89bfe33be",
   "metadata": {},
   "outputs": [
    {
     "data": {
      "text/plain": [
       "(0.07600000000000003, (0.0671490622858366, 0.08485093771416345))"
      ]
     },
     "execution_count": 69,
     "metadata": {},
     "output_type": "execute_result"
    },
    {
     "data": {
      "text/plain": [
       "(0.06914285714285716, (0.06126006367052508, 0.07702565061518923))"
      ]
     },
     "execution_count": 69,
     "metadata": {},
     "output_type": "execute_result"
    },
    {
     "data": {
      "text/plain": [
       "(0.056571428571428585, (0.04619748493912138, 0.06694537220373578))"
      ]
     },
     "execution_count": 69,
     "metadata": {},
     "output_type": "execute_result"
    },
    {
     "data": {
      "text/plain": [
       "(0.06999999999999998, (0.06008058355530563, 0.07991941644469433))"
      ]
     },
     "execution_count": 69,
     "metadata": {},
     "output_type": "execute_result"
    },
    {
     "data": {
      "text/plain": [
       "(0.0855513852785291, (0.0758070600104507, 0.09529571054660749))"
      ]
     },
     "execution_count": 69,
     "metadata": {},
     "output_type": "execute_result"
    }
   ],
   "source": [
    "mean_diff_ci(df[\"RF_HR30\"], df[\"e5_HR30\"], confidence=0.95)\n",
    "mean_diff_ci(df[\"RF_HR20\"], df[\"e5_HR20\"], confidence=0.95)\n",
    "mean_diff_ci(df[\"RF_HR10\"], df[\"e5_HR10\"], confidence=0.95)\n",
    "mean_diff_ci(df[\"RF_HR5\"], df[\"e5_HR5\"], confidence=0.95)\n",
    "mean_diff_ci(df[\"RF_MRR\"], df[\"e5_MRR\"], confidence=0.95)"
   ]
  },
  {
   "cell_type": "markdown",
   "id": "bb0e8722-7301-4493-a842-64887d915bca",
   "metadata": {},
   "source": [
    "### Appendix S2 Text: Table C (sensitivity analysis for Table 4, using MRR to tune hyperparameters)"
   ]
  },
  {
   "cell_type": "code",
   "execution_count": 70,
   "id": "da2f9b16-b6d3-4c8e-922e-e21bfa89877a",
   "metadata": {},
   "outputs": [
    {
     "name": "stdout",
     "output_type": "stream",
     "text": [
      "trial No mapping: 1 -> output1.txt\n",
      "trial No mapping: 2 -> output10.txt\n",
      "trial No mapping: 3 -> output11.txt\n",
      "trial No mapping: 4 -> output12.txt\n",
      "trial No mapping: 5 -> output13.txt\n",
      "trial No mapping: 6 -> output14.txt\n",
      "trial No mapping: 7 -> output15.txt\n",
      "trial No mapping: 8 -> output16.txt\n",
      "trial No mapping: 9 -> output17.txt\n",
      "trial No mapping: 10 -> output18.txt\n",
      "trial No mapping: 11 -> output19.txt\n",
      "trial No mapping: 12 -> output2.txt\n",
      "trial No mapping: 13 -> output20.txt\n",
      "trial No mapping: 14 -> output21.txt\n",
      "trial No mapping: 15 -> output22.txt\n",
      "trial No mapping: 16 -> output23.txt\n",
      "trial No mapping: 17 -> output24.txt\n",
      "trial No mapping: 18 -> output25.txt\n",
      "trial No mapping: 19 -> output26.txt\n",
      "trial No mapping: 20 -> output27.txt\n",
      "trial No mapping: 21 -> output28.txt\n",
      "trial No mapping: 22 -> output29.txt\n",
      "trial No mapping: 23 -> output3.txt\n",
      "trial No mapping: 24 -> output30.txt\n",
      "trial No mapping: 25 -> output31.txt\n",
      "trial No mapping: 26 -> output32.txt\n",
      "trial No mapping: 27 -> output33.txt\n",
      "trial No mapping: 28 -> output34.txt\n",
      "trial No mapping: 29 -> output35.txt\n",
      "trial No mapping: 30 -> output36.txt\n",
      "trial No mapping: 31 -> output37.txt\n",
      "trial No mapping: 32 -> output38.txt\n",
      "trial No mapping: 33 -> output39.txt\n",
      "trial No mapping: 34 -> output4.txt\n",
      "trial No mapping: 35 -> output40.txt\n",
      "trial No mapping: 36 -> output41.txt\n",
      "trial No mapping: 37 -> output42.txt\n",
      "trial No mapping: 38 -> output43.txt\n",
      "trial No mapping: 39 -> output44.txt\n",
      "trial No mapping: 40 -> output45.txt\n",
      "trial No mapping: 41 -> output46.txt\n",
      "trial No mapping: 42 -> output47.txt\n",
      "trial No mapping: 43 -> output48.txt\n",
      "trial No mapping: 44 -> output49.txt\n",
      "trial No mapping: 45 -> output5.txt\n",
      "trial No mapping: 46 -> output50.txt\n",
      "trial No mapping: 47 -> output6.txt\n",
      "trial No mapping: 48 -> output7.txt\n",
      "trial No mapping: 49 -> output8.txt\n",
      "trial No mapping: 50 -> output9.txt\n"
     ]
    },
    {
     "data": {
      "text/html": [
       "<div>\n",
       "<style scoped>\n",
       "    .dataframe tbody tr th:only-of-type {\n",
       "        vertical-align: middle;\n",
       "    }\n",
       "\n",
       "    .dataframe tbody tr th {\n",
       "        vertical-align: top;\n",
       "    }\n",
       "\n",
       "    .dataframe thead th {\n",
       "        text-align: right;\n",
       "    }\n",
       "</style>\n",
       "<table border=\"1\" class=\"dataframe\">\n",
       "  <thead>\n",
       "    <tr style=\"text-align: right;\">\n",
       "      <th></th>\n",
       "      <th>RF</th>\n",
       "      <th>e5</th>\n",
       "      <th>optimize_opt</th>\n",
       "      <th>metric</th>\n",
       "      <th>trial</th>\n",
       "      <th>file_name</th>\n",
       "    </tr>\n",
       "  </thead>\n",
       "  <tbody>\n",
       "    <tr>\n",
       "      <th>745</th>\n",
       "      <td>1.000000</td>\n",
       "      <td>0.957143</td>\n",
       "      <td>opt_uniq_HR</td>\n",
       "      <td>HR30</td>\n",
       "      <td>50</td>\n",
       "      <td>/restricted/projectnb/fhs-std-chen/jchen/code_...</td>\n",
       "    </tr>\n",
       "    <tr>\n",
       "      <th>746</th>\n",
       "      <td>1.000000</td>\n",
       "      <td>0.942857</td>\n",
       "      <td>opt_uniq_HR</td>\n",
       "      <td>HR20</td>\n",
       "      <td>50</td>\n",
       "      <td>/restricted/projectnb/fhs-std-chen/jchen/code_...</td>\n",
       "    </tr>\n",
       "    <tr>\n",
       "      <th>747</th>\n",
       "      <td>0.942857</td>\n",
       "      <td>0.900000</td>\n",
       "      <td>opt_uniq_HR</td>\n",
       "      <td>HR10</td>\n",
       "      <td>50</td>\n",
       "      <td>/restricted/projectnb/fhs-std-chen/jchen/code_...</td>\n",
       "    </tr>\n",
       "    <tr>\n",
       "      <th>748</th>\n",
       "      <td>0.900000</td>\n",
       "      <td>0.842857</td>\n",
       "      <td>opt_uniq_HR</td>\n",
       "      <td>HR5</td>\n",
       "      <td>50</td>\n",
       "      <td>/restricted/projectnb/fhs-std-chen/jchen/code_...</td>\n",
       "    </tr>\n",
       "    <tr>\n",
       "      <th>749</th>\n",
       "      <td>0.730895</td>\n",
       "      <td>0.689515</td>\n",
       "      <td>opt_uniq_HR</td>\n",
       "      <td>MRR</td>\n",
       "      <td>50</td>\n",
       "      <td>/restricted/projectnb/fhs-std-chen/jchen/code_...</td>\n",
       "    </tr>\n",
       "  </tbody>\n",
       "</table>\n",
       "</div>"
      ],
      "text/plain": [
       "           RF        e5 optimize_opt metric  trial  \\\n",
       "745  1.000000  0.957143  opt_uniq_HR   HR30     50   \n",
       "746  1.000000  0.942857  opt_uniq_HR   HR20     50   \n",
       "747  0.942857  0.900000  opt_uniq_HR   HR10     50   \n",
       "748  0.900000  0.842857  opt_uniq_HR    HR5     50   \n",
       "749  0.730895  0.689515  opt_uniq_HR    MRR     50   \n",
       "\n",
       "                                             file_name  \n",
       "745  /restricted/projectnb/fhs-std-chen/jchen/code_...  \n",
       "746  /restricted/projectnb/fhs-std-chen/jchen/code_...  \n",
       "747  /restricted/projectnb/fhs-std-chen/jchen/code_...  \n",
       "748  /restricted/projectnb/fhs-std-chen/jchen/code_...  \n",
       "749  /restricted/projectnb/fhs-std-chen/jchen/code_...  "
      ]
     },
     "execution_count": 70,
     "metadata": {},
     "output_type": "execute_result"
    }
   ],
   "source": [
    "# extract e5 and RF results from original trials\n",
    "model_output_path = datadir + \"/02232025res_v2/\"\n",
    "model_name = \"RF\"\n",
    "\n",
    "combined_df = extract_scores_from_folder(model_output_path, model_name)\n",
    "\n",
    "combined_df.tail()"
   ]
  },
  {
   "cell_type": "code",
   "execution_count": 71,
   "id": "a7bc8bd1-c2ff-4b29-a1b7-c83e6163cc49",
   "metadata": {},
   "outputs": [
    {
     "data": {
      "text/html": [
       "<div>\n",
       "<style scoped>\n",
       "    .dataframe tbody tr th:only-of-type {\n",
       "        vertical-align: middle;\n",
       "    }\n",
       "\n",
       "    .dataframe tbody tr th {\n",
       "        vertical-align: top;\n",
       "    }\n",
       "\n",
       "    .dataframe thead th {\n",
       "        text-align: right;\n",
       "    }\n",
       "</style>\n",
       "<table border=\"1\" class=\"dataframe\">\n",
       "  <thead>\n",
       "    <tr style=\"text-align: right;\">\n",
       "      <th></th>\n",
       "      <th>mean</th>\n",
       "      <th>std</th>\n",
       "    </tr>\n",
       "  </thead>\n",
       "  <tbody>\n",
       "    <tr>\n",
       "      <th>trial</th>\n",
       "      <td>25.500000</td>\n",
       "      <td>14.577380</td>\n",
       "    </tr>\n",
       "    <tr>\n",
       "      <th>RF_HR10</th>\n",
       "      <td>0.928000</td>\n",
       "      <td>0.029569</td>\n",
       "    </tr>\n",
       "    <tr>\n",
       "      <th>RF_HR20</th>\n",
       "      <td>0.976000</td>\n",
       "      <td>0.015660</td>\n",
       "    </tr>\n",
       "    <tr>\n",
       "      <th>RF_HR30</th>\n",
       "      <td>0.987143</td>\n",
       "      <td>0.011987</td>\n",
       "    </tr>\n",
       "    <tr>\n",
       "      <th>RF_HR5</th>\n",
       "      <td>0.873143</td>\n",
       "      <td>0.036237</td>\n",
       "    </tr>\n",
       "    <tr>\n",
       "      <th>RF_MRR</th>\n",
       "      <td>0.742546</td>\n",
       "      <td>0.037461</td>\n",
       "    </tr>\n",
       "    <tr>\n",
       "      <th>e5_HR10</th>\n",
       "      <td>0.871143</td>\n",
       "      <td>0.034452</td>\n",
       "    </tr>\n",
       "    <tr>\n",
       "      <th>e5_HR20</th>\n",
       "      <td>0.904571</td>\n",
       "      <td>0.027899</td>\n",
       "    </tr>\n",
       "    <tr>\n",
       "      <th>e5_HR30</th>\n",
       "      <td>0.910857</td>\n",
       "      <td>0.028507</td>\n",
       "    </tr>\n",
       "    <tr>\n",
       "      <th>e5_HR5</th>\n",
       "      <td>0.803143</td>\n",
       "      <td>0.040436</td>\n",
       "    </tr>\n",
       "    <tr>\n",
       "      <th>e5_MRR</th>\n",
       "      <td>0.658849</td>\n",
       "      <td>0.044175</td>\n",
       "    </tr>\n",
       "  </tbody>\n",
       "</table>\n",
       "</div>"
      ],
      "text/plain": [
       "              mean        std\n",
       "trial    25.500000  14.577380\n",
       "RF_HR10   0.928000   0.029569\n",
       "RF_HR20   0.976000   0.015660\n",
       "RF_HR30   0.987143   0.011987\n",
       "RF_HR5    0.873143   0.036237\n",
       "RF_MRR    0.742546   0.037461\n",
       "e5_HR10   0.871143   0.034452\n",
       "e5_HR20   0.904571   0.027899\n",
       "e5_HR30   0.910857   0.028507\n",
       "e5_HR5    0.803143   0.040436\n",
       "e5_MRR    0.658849   0.044175"
      ]
     },
     "execution_count": 71,
     "metadata": {},
     "output_type": "execute_result"
    }
   ],
   "source": [
    "df1 = extract_scores(combined_df, \"opt_MRR\", models = [\"RF\", \"e5\"])\n",
    "df = df1.drop(columns=['file_name'])\n",
    "summary = pd.DataFrame({\n",
    "    'mean': df.mean(),\n",
    "    'std': df.std(ddof=1)  # ddof=1 for sample standard deviation\n",
    "})\n",
    "\n",
    "summary"
   ]
  },
  {
   "cell_type": "code",
   "execution_count": 72,
   "id": "f75eedbf-b15f-466e-aa82-e771cba7bf68",
   "metadata": {},
   "outputs": [
    {
     "name": "stdout",
     "output_type": "stream",
     "text": [
      "HR30: t-statistic: 17.8519, p-value: 0.0000\n",
      "HR20: t-statistic: 17.9546, p-value: 0.0000\n",
      "HR10: t-statistic: 11.8800, p-value: 0.0000\n",
      "HR5: t-statistic: 14.8015, p-value: 0.0000\n",
      "MRR: t-statistic: 18.6155, p-value: 0.0000\n"
     ]
    }
   ],
   "source": [
    "# Paired t-test\n",
    "t_stat, p_value = stats.ttest_rel(df[\"RF_HR30\"], df[\"e5_HR30\"])\n",
    "print(f\"HR30: t-statistic: {t_stat:.4f}, p-value: {p_value:.4f}\")\n",
    "t_stat, p_value = stats.ttest_rel(df[\"RF_HR20\"], df[\"e5_HR20\"])\n",
    "print(f\"HR20: t-statistic: {t_stat:.4f}, p-value: {p_value:.4f}\")\n",
    "t_stat, p_value = stats.ttest_rel(df[\"RF_HR10\"], df[\"e5_HR10\"])\n",
    "print(f\"HR10: t-statistic: {t_stat:.4f}, p-value: {p_value:.4f}\")\n",
    "t_stat, p_value = stats.ttest_rel(df[\"RF_HR5\"], df[\"e5_HR5\"])\n",
    "print(f\"HR5: t-statistic: {t_stat:.4f}, p-value: {p_value:.4f}\")\n",
    "t_stat, p_value = stats.ttest_rel(df[\"RF_MRR\"], df[\"e5_MRR\"])\n",
    "print(f\"MRR: t-statistic: {t_stat:.4f}, p-value: {p_value:.4f}\")\n"
   ]
  },
  {
   "cell_type": "code",
   "execution_count": 73,
   "id": "1e85d15a-8754-4660-b198-f7a99db3ddae",
   "metadata": {},
   "outputs": [
    {
     "data": {
      "text/plain": [
       "(0.0762857142857143, (0.06769828299886906, 0.08487314557255955))"
      ]
     },
     "execution_count": 73,
     "metadata": {},
     "output_type": "execute_result"
    },
    {
     "data": {
      "text/plain": [
       "(0.07142857142857145, (0.0634339116095023, 0.0794232312476406))"
      ]
     },
     "execution_count": 73,
     "metadata": {},
     "output_type": "execute_result"
    },
    {
     "data": {
      "text/plain": [
       "(0.05685714285714287, (0.047239387140565664, 0.06647489857372008))"
      ]
     },
     "execution_count": 73,
     "metadata": {},
     "output_type": "execute_result"
    },
    {
     "data": {
      "text/plain": [
       "(0.06999999999999998, (0.060496242781853796, 0.07950375721814616))"
      ]
     },
     "execution_count": 73,
     "metadata": {},
     "output_type": "execute_result"
    },
    {
     "data": {
      "text/plain": [
       "(0.08369658593699501, (0.07466139261675697, 0.09273177925723305))"
      ]
     },
     "execution_count": 73,
     "metadata": {},
     "output_type": "execute_result"
    }
   ],
   "source": [
    "mean_diff_ci(df[\"RF_HR30\"], df[\"e5_HR30\"], confidence=0.95)\n",
    "mean_diff_ci(df[\"RF_HR20\"], df[\"e5_HR20\"], confidence=0.95)\n",
    "mean_diff_ci(df[\"RF_HR10\"], df[\"e5_HR10\"], confidence=0.95)\n",
    "mean_diff_ci(df[\"RF_HR5\"], df[\"e5_HR5\"], confidence=0.95)\n",
    "mean_diff_ci(df[\"RF_MRR\"], df[\"e5_MRR\"], confidence=0.95)"
   ]
  },
  {
   "cell_type": "markdown",
   "id": "dcb6a437-e43f-44c4-8a62-168ca46e4cbf",
   "metadata": {},
   "source": [
    "## Table 6"
   ]
  },
  {
   "cell_type": "code",
   "execution_count": 74,
   "id": "0d4eb7b2-7bc8-4fce-907f-2c9f6b1026a6",
   "metadata": {},
   "outputs": [],
   "source": [
    "file_path = datadir + 'test_res_full2_022425.pkl'\n",
    "with open(file_path, 'rb') as file:\n",
    "    test_res_full2 = pickle.load(file)\n",
    "test_res_full_df = pd.DataFrame.from_dict(test_res_full2, orient='index')\n",
    "test_res_full_df.columns = ['top_30_HR_whole','top_20_whole','top_10_whole','top_5_whole','MRR_whole']"
   ]
  },
  {
   "cell_type": "code",
   "execution_count": 75,
   "id": "ecdf1f6b-1656-449e-9956-d2b33acf5a01",
   "metadata": {},
   "outputs": [
    {
     "data": {
      "text/html": [
       "<div>\n",
       "<style scoped>\n",
       "    .dataframe tbody tr th:only-of-type {\n",
       "        vertical-align: middle;\n",
       "    }\n",
       "\n",
       "    .dataframe tbody tr th {\n",
       "        vertical-align: top;\n",
       "    }\n",
       "\n",
       "    .dataframe thead th {\n",
       "        text-align: right;\n",
       "    }\n",
       "</style>\n",
       "<table border=\"1\" class=\"dataframe\">\n",
       "  <thead>\n",
       "    <tr style=\"text-align: right;\">\n",
       "      <th></th>\n",
       "      <th>mean</th>\n",
       "      <th>std</th>\n",
       "    </tr>\n",
       "  </thead>\n",
       "  <tbody>\n",
       "    <tr>\n",
       "      <th>top_30_HR_whole</th>\n",
       "      <td>0.986000</td>\n",
       "      <td>0.012410</td>\n",
       "    </tr>\n",
       "    <tr>\n",
       "      <th>top_20_whole</th>\n",
       "      <td>0.974857</td>\n",
       "      <td>0.017211</td>\n",
       "    </tr>\n",
       "    <tr>\n",
       "      <th>top_10_whole</th>\n",
       "      <td>0.929429</td>\n",
       "      <td>0.026673</td>\n",
       "    </tr>\n",
       "    <tr>\n",
       "      <th>top_5_whole</th>\n",
       "      <td>0.872000</td>\n",
       "      <td>0.038176</td>\n",
       "    </tr>\n",
       "    <tr>\n",
       "      <th>MRR_whole</th>\n",
       "      <td>0.744448</td>\n",
       "      <td>0.036333</td>\n",
       "    </tr>\n",
       "  </tbody>\n",
       "</table>\n",
       "</div>"
      ],
      "text/plain": [
       "                     mean       std\n",
       "top_30_HR_whole  0.986000  0.012410\n",
       "top_20_whole     0.974857  0.017211\n",
       "top_10_whole     0.929429  0.026673\n",
       "top_5_whole      0.872000  0.038176\n",
       "MRR_whole        0.744448  0.036333"
      ]
     },
     "execution_count": 75,
     "metadata": {},
     "output_type": "execute_result"
    }
   ],
   "source": [
    "df = test_res_full_df\n",
    "summary = pd.DataFrame({\n",
    "    'mean': df.mean(),\n",
    "    'std': df.std(ddof=1)  # ddof=1 for sample standard deviation\n",
    "})\n",
    "\n",
    "summary"
   ]
  },
  {
   "cell_type": "code",
   "execution_count": 76,
   "id": "d55ebd49-c184-4782-b2da-3c235ceb7df7",
   "metadata": {},
   "outputs": [
    {
     "name": "stdout",
     "output_type": "stream",
     "text": [
      "Mean: 0.986000\n",
      "95% CI: (0.982473, 0.989527)\n",
      "Mean: 0.974857\n",
      "95% CI: (0.969966, 0.979748)\n",
      "Mean: 0.929429\n",
      "95% CI: (0.921848, 0.937009)\n",
      "Mean: 0.872000\n",
      "95% CI: (0.861151, 0.882849)\n",
      "Mean: 0.744448\n",
      "95% CI: (0.734122, 0.754774)\n"
     ]
    },
    {
     "data": {
      "text/plain": [
       "top_30_HR_whole    None\n",
       "top_20_whole       None\n",
       "top_10_whole       None\n",
       "top_5_whole        None\n",
       "MRR_whole          None\n",
       "dtype: object"
      ]
     },
     "execution_count": 76,
     "metadata": {},
     "output_type": "execute_result"
    }
   ],
   "source": [
    "df.apply(ci_of_one_sample)"
   ]
  },
  {
   "cell_type": "markdown",
   "id": "d238701e-2db5-4804-b1cd-b4a0a6657930",
   "metadata": {},
   "source": [
    "### full model vs. removing Fuzzy features"
   ]
  },
  {
   "cell_type": "code",
   "execution_count": 77,
   "id": "bbd5d4b7",
   "metadata": {},
   "outputs": [],
   "source": [
    "file_path = datadir + 'test_res_drop_fuzz2_022425.pkl'\n",
    "with open(file_path, 'rb') as file:\n",
    "    test_res_drop_fuzz2 = pickle.load(file)\n",
    "test_res_drop_fuzz_df = pd.DataFrame.from_dict(test_res_drop_fuzz2, orient='index')\n",
    "test_res_drop_fuzz_df.columns = ['top_30_HR_drop_fuzz','top_20_drop_fuzz','top_10_drop_fuzz','top_5_drop_fuzz','MRR_drop_fuzz']\n"
   ]
  },
  {
   "cell_type": "code",
   "execution_count": 78,
   "id": "b0992e0e-13aa-43a9-ad8e-79c77a70ee97",
   "metadata": {},
   "outputs": [
    {
     "data": {
      "text/html": [
       "<div>\n",
       "<style scoped>\n",
       "    .dataframe tbody tr th:only-of-type {\n",
       "        vertical-align: middle;\n",
       "    }\n",
       "\n",
       "    .dataframe tbody tr th {\n",
       "        vertical-align: top;\n",
       "    }\n",
       "\n",
       "    .dataframe thead th {\n",
       "        text-align: right;\n",
       "    }\n",
       "</style>\n",
       "<table border=\"1\" class=\"dataframe\">\n",
       "  <thead>\n",
       "    <tr style=\"text-align: right;\">\n",
       "      <th></th>\n",
       "      <th>mean</th>\n",
       "      <th>std</th>\n",
       "    </tr>\n",
       "  </thead>\n",
       "  <tbody>\n",
       "    <tr>\n",
       "      <th>top_30_HR_drop_fuzz</th>\n",
       "      <td>0.984857</td>\n",
       "      <td>0.014832</td>\n",
       "    </tr>\n",
       "    <tr>\n",
       "      <th>top_20_drop_fuzz</th>\n",
       "      <td>0.974286</td>\n",
       "      <td>0.015542</td>\n",
       "    </tr>\n",
       "    <tr>\n",
       "      <th>top_10_drop_fuzz</th>\n",
       "      <td>0.919429</td>\n",
       "      <td>0.026883</td>\n",
       "    </tr>\n",
       "    <tr>\n",
       "      <th>top_5_drop_fuzz</th>\n",
       "      <td>0.874286</td>\n",
       "      <td>0.036393</td>\n",
       "    </tr>\n",
       "    <tr>\n",
       "      <th>MRR_drop_fuzz</th>\n",
       "      <td>0.740758</td>\n",
       "      <td>0.039445</td>\n",
       "    </tr>\n",
       "  </tbody>\n",
       "</table>\n",
       "</div>"
      ],
      "text/plain": [
       "                         mean       std\n",
       "top_30_HR_drop_fuzz  0.984857  0.014832\n",
       "top_20_drop_fuzz     0.974286  0.015542\n",
       "top_10_drop_fuzz     0.919429  0.026883\n",
       "top_5_drop_fuzz      0.874286  0.036393\n",
       "MRR_drop_fuzz        0.740758  0.039445"
      ]
     },
     "execution_count": 78,
     "metadata": {},
     "output_type": "execute_result"
    }
   ],
   "source": [
    "df = test_res_drop_fuzz_df\n",
    "summary = pd.DataFrame({\n",
    "    'mean': df.mean(),\n",
    "    'std': df.std(ddof=1)  # ddof=1 for sample standard deviation\n",
    "})\n",
    "\n",
    "summary"
   ]
  },
  {
   "cell_type": "code",
   "execution_count": 79,
   "id": "6a6709ab-0b90-4142-9057-762a42ff12c8",
   "metadata": {},
   "outputs": [
    {
     "name": "stdout",
     "output_type": "stream",
     "text": [
      "HR30: t-statistic: 0.7268, p-value: 0.4708\n",
      "HR20: t-statistic: 0.2860, p-value: 0.7761\n",
      "HR10: t-statistic: 3.4223, p-value: 0.0013\n",
      "HR5: t-statistic: -0.7739, p-value: 0.4427\n",
      "MRR: t-statistic: 1.1922, p-value: 0.2389\n"
     ]
    }
   ],
   "source": [
    "# Paired t-test\n",
    "t_stat, p_value = stats.ttest_rel(test_res_full_df['top_30_HR_whole'], test_res_drop_fuzz_df['top_30_HR_drop_fuzz'])\n",
    "print(f\"HR30: t-statistic: {t_stat:.4f}, p-value: {p_value:.4f}\")\n",
    "t_stat, p_value = stats.ttest_rel(test_res_full_df['top_20_whole'], test_res_drop_fuzz_df['top_20_drop_fuzz'])\n",
    "print(f\"HR20: t-statistic: {t_stat:.4f}, p-value: {p_value:.4f}\")\n",
    "t_stat, p_value = stats.ttest_rel(test_res_full_df['top_10_whole'], test_res_drop_fuzz_df['top_10_drop_fuzz'])\n",
    "print(f\"HR10: t-statistic: {t_stat:.4f}, p-value: {p_value:.4f}\")\n",
    "t_stat, p_value = stats.ttest_rel(test_res_full_df['top_5_whole'], test_res_drop_fuzz_df['top_5_drop_fuzz'])\n",
    "print(f\"HR5: t-statistic: {t_stat:.4f}, p-value: {p_value:.4f}\")\n",
    "t_stat, p_value = stats.ttest_rel(test_res_full_df['MRR_whole'], test_res_drop_fuzz_df['MRR_drop_fuzz'])\n",
    "print(f\"MRR: t-statistic: {t_stat:.4f}, p-value: {p_value:.4f}\")"
   ]
  },
  {
   "cell_type": "code",
   "execution_count": 80,
   "id": "c343d595",
   "metadata": {},
   "outputs": [
    {
     "name": "stdout",
     "output_type": "stream",
     "text": [
      "(0.001142857142857152, (-0.002016910421279172, 0.004302624706993476))\n",
      "(0.0005714285714285694, (-0.0034435348504647492, 0.004586391993321888))\n",
      "(0.010000000000000002, (0.004128012518692328, 0.015871987481307675))\n",
      "(-0.0022857142857142863, (-0.008220950460859399, 0.0036495218894308256))\n",
      "(0.0036897228767850954, (-0.0025298079658527687, 0.009909253719422959))\n"
     ]
    }
   ],
   "source": [
    "print(mean_diff_ci(test_res_full_df['top_30_HR_whole'], test_res_drop_fuzz_df['top_30_HR_drop_fuzz'], confidence=0.95))\n",
    "print(mean_diff_ci(test_res_full_df['top_20_whole'], test_res_drop_fuzz_df['top_20_drop_fuzz'], confidence=0.95))\n",
    "print(mean_diff_ci(test_res_full_df['top_10_whole'], test_res_drop_fuzz_df['top_10_drop_fuzz'], confidence=0.95))\n",
    "print(mean_diff_ci(test_res_full_df['top_5_whole'], test_res_drop_fuzz_df['top_5_drop_fuzz'], confidence=0.95))\n",
    "print(mean_diff_ci(test_res_full_df['MRR_whole'], test_res_drop_fuzz_df['MRR_drop_fuzz'], confidence=0.95))"
   ]
  },
  {
   "cell_type": "markdown",
   "id": "13614aee-ce5d-41c7-a919-612bbd7d6d5d",
   "metadata": {},
   "source": [
    "### full model vs. removing other features"
   ]
  },
  {
   "cell_type": "code",
   "execution_count": 81,
   "id": "fe768523",
   "metadata": {},
   "outputs": [],
   "source": [
    "file_path = datadir + 'test_res_drop_derive2_022425.pkl'\n",
    "with open(file_path, 'rb') as file:\n",
    "    test_res_drop_derive2 = pickle.load(file)\n",
    "test_res_drop_derive_df = pd.DataFrame.from_dict(test_res_drop_derive2, orient='index')\n",
    "test_res_drop_derive_df.columns = ['top_30_HR_drop_derive','top_20_drop_derive','top_10_drop_derive','top_5_drop_derive','MRR_drop_derive']"
   ]
  },
  {
   "cell_type": "code",
   "execution_count": 82,
   "id": "bcee955b-8930-4e11-891c-14d297a14b51",
   "metadata": {},
   "outputs": [
    {
     "data": {
      "text/html": [
       "<div>\n",
       "<style scoped>\n",
       "    .dataframe tbody tr th:only-of-type {\n",
       "        vertical-align: middle;\n",
       "    }\n",
       "\n",
       "    .dataframe tbody tr th {\n",
       "        vertical-align: top;\n",
       "    }\n",
       "\n",
       "    .dataframe thead th {\n",
       "        text-align: right;\n",
       "    }\n",
       "</style>\n",
       "<table border=\"1\" class=\"dataframe\">\n",
       "  <thead>\n",
       "    <tr style=\"text-align: right;\">\n",
       "      <th></th>\n",
       "      <th>mean</th>\n",
       "      <th>std</th>\n",
       "    </tr>\n",
       "  </thead>\n",
       "  <tbody>\n",
       "    <tr>\n",
       "      <th>top_30_HR_drop_derive</th>\n",
       "      <td>0.985143</td>\n",
       "      <td>0.014419</td>\n",
       "    </tr>\n",
       "    <tr>\n",
       "      <th>top_20_drop_derive</th>\n",
       "      <td>0.967429</td>\n",
       "      <td>0.018713</td>\n",
       "    </tr>\n",
       "    <tr>\n",
       "      <th>top_10_drop_derive</th>\n",
       "      <td>0.920857</td>\n",
       "      <td>0.024525</td>\n",
       "    </tr>\n",
       "    <tr>\n",
       "      <th>top_5_drop_derive</th>\n",
       "      <td>0.867429</td>\n",
       "      <td>0.038293</td>\n",
       "    </tr>\n",
       "    <tr>\n",
       "      <th>MRR_drop_derive</th>\n",
       "      <td>0.738643</td>\n",
       "      <td>0.042256</td>\n",
       "    </tr>\n",
       "  </tbody>\n",
       "</table>\n",
       "</div>"
      ],
      "text/plain": [
       "                           mean       std\n",
       "top_30_HR_drop_derive  0.985143  0.014419\n",
       "top_20_drop_derive     0.967429  0.018713\n",
       "top_10_drop_derive     0.920857  0.024525\n",
       "top_5_drop_derive      0.867429  0.038293\n",
       "MRR_drop_derive        0.738643  0.042256"
      ]
     },
     "execution_count": 82,
     "metadata": {},
     "output_type": "execute_result"
    }
   ],
   "source": [
    "df = test_res_drop_derive_df\n",
    "summary = pd.DataFrame({\n",
    "    'mean': df.mean(),\n",
    "    'std': df.std(ddof=1)  # ddof=1 for sample standard deviation\n",
    "})\n",
    "\n",
    "summary"
   ]
  },
  {
   "cell_type": "code",
   "execution_count": 83,
   "id": "e6265f1e-5c70-4145-9f32-693497be40fd",
   "metadata": {},
   "outputs": [
    {
     "name": "stdout",
     "output_type": "stream",
     "text": [
      "HR30: t-statistic: 0.5033, p-value: 0.6170\n",
      "HR20: t-statistic: 3.7753, p-value: 0.0004\n",
      "HR10: t-statistic: 3.9686, p-value: 0.0002\n",
      "HR5: t-statistic: 2.0300, p-value: 0.0478\n",
      "MRR: t-statistic: 2.7129, p-value: 0.0092\n"
     ]
    }
   ],
   "source": [
    "# Paired t-test\n",
    "t_stat, p_value = stats.ttest_rel(test_res_full_df['top_30_HR_whole'], test_res_drop_derive_df['top_30_HR_drop_derive'])\n",
    "print(f\"HR30: t-statistic: {t_stat:.4f}, p-value: {p_value:.4f}\")\n",
    "t_stat, p_value = stats.ttest_rel(test_res_full_df['top_20_whole'], test_res_drop_derive_df['top_20_drop_derive'])\n",
    "print(f\"HR20: t-statistic: {t_stat:.4f}, p-value: {p_value:.4f}\")\n",
    "t_stat, p_value = stats.ttest_rel(test_res_full_df['top_10_whole'], test_res_drop_derive_df['top_10_drop_derive'])\n",
    "print(f\"HR10: t-statistic: {t_stat:.4f}, p-value: {p_value:.4f}\")\n",
    "t_stat, p_value = stats.ttest_rel(test_res_full_df['top_5_whole'], test_res_drop_derive_df['top_5_drop_derive'])\n",
    "print(f\"HR5: t-statistic: {t_stat:.4f}, p-value: {p_value:.4f}\")\n",
    "t_stat, p_value = stats.ttest_rel(test_res_full_df['MRR_whole'], test_res_drop_derive_df['MRR_drop_derive'])\n",
    "print(f\"MRR: t-statistic: {t_stat:.4f}, p-value: {p_value:.4f}\")"
   ]
  },
  {
   "cell_type": "code",
   "execution_count": 84,
   "id": "a892955b",
   "metadata": {},
   "outputs": [
    {
     "name": "stdout",
     "output_type": "stream",
     "text": [
      "(0.0008571428571428585, (-0.0025653107651489484, 0.004279596479434666))\n",
      "(0.0074285714285714285, (0.0034743931323089963, 0.01138274972483386))\n",
      "(0.008571428571428574, (0.0042311540258631675, 0.01291170311699398))\n",
      "(0.004571428571428571, (4.599170812829168e-05, 0.00909686543472885))\n",
      "(0.005804638562640383, (0.0015048794750431582, 0.010104397650237608))\n"
     ]
    }
   ],
   "source": [
    "print(mean_diff_ci(test_res_full_df['top_30_HR_whole'], test_res_drop_derive_df['top_30_HR_drop_derive'], confidence=0.95))\n",
    "print(mean_diff_ci(test_res_full_df['top_20_whole'], test_res_drop_derive_df['top_20_drop_derive'], confidence=0.95))\n",
    "print(mean_diff_ci(test_res_full_df['top_10_whole'], test_res_drop_derive_df['top_10_drop_derive'], confidence=0.95))\n",
    "print(mean_diff_ci(test_res_full_df['top_5_whole'], test_res_drop_derive_df['top_5_drop_derive'], confidence=0.95))\n",
    "print(mean_diff_ci(test_res_full_df['MRR_whole'], test_res_drop_derive_df['MRR_drop_derive'], confidence=0.95))"
   ]
  },
  {
   "cell_type": "markdown",
   "id": "6fa84b9d-8334-4b55-a037-94dab41050ca",
   "metadata": {},
   "source": [
    "### full model vs. removing LLM features"
   ]
  },
  {
   "cell_type": "code",
   "execution_count": 85,
   "id": "45dd1eb0-99e1-4a88-83b8-77a64ded025f",
   "metadata": {},
   "outputs": [
    {
     "data": {
      "text/plain": [
       "top_30_HR_drop_LLM    0.907714\n",
       "top_20_drop_LLM       0.870286\n",
       "top_10_drop_LLM       0.810571\n",
       "top_5_drop_LLM        0.715143\n",
       "MRR_drop_LLM          0.572752\n",
       "dtype: float64"
      ]
     },
     "execution_count": 85,
     "metadata": {},
     "output_type": "execute_result"
    }
   ],
   "source": [
    "file_path = datadir + 'test_res_drop_label_022425.pkl'\n",
    "with open(file_path, 'rb') as file:\n",
    "    test_res_drop_label = pickle.load(file)\n",
    "test_res_drop_label_df = pd.DataFrame.from_dict(test_res_drop_label, orient='index')\n",
    "test_res_drop_label_df.columns = ['top_30_HR_drop_LLM','top_20_drop_LLM','top_10_drop_LLM','top_5_drop_LLM','MRR_drop_LLM']\n",
    "test_res_drop_label_df.mean()"
   ]
  },
  {
   "cell_type": "code",
   "execution_count": 86,
   "id": "f2b5b769-020e-4321-83c8-b4aa0fc69a68",
   "metadata": {},
   "outputs": [
    {
     "data": {
      "text/html": [
       "<div>\n",
       "<style scoped>\n",
       "    .dataframe tbody tr th:only-of-type {\n",
       "        vertical-align: middle;\n",
       "    }\n",
       "\n",
       "    .dataframe tbody tr th {\n",
       "        vertical-align: top;\n",
       "    }\n",
       "\n",
       "    .dataframe thead th {\n",
       "        text-align: right;\n",
       "    }\n",
       "</style>\n",
       "<table border=\"1\" class=\"dataframe\">\n",
       "  <thead>\n",
       "    <tr style=\"text-align: right;\">\n",
       "      <th></th>\n",
       "      <th>mean</th>\n",
       "      <th>std</th>\n",
       "    </tr>\n",
       "  </thead>\n",
       "  <tbody>\n",
       "    <tr>\n",
       "      <th>top_30_HR_drop_LLM</th>\n",
       "      <td>0.907714</td>\n",
       "      <td>0.033684</td>\n",
       "    </tr>\n",
       "    <tr>\n",
       "      <th>top_20_drop_LLM</th>\n",
       "      <td>0.870286</td>\n",
       "      <td>0.039556</td>\n",
       "    </tr>\n",
       "    <tr>\n",
       "      <th>top_10_drop_LLM</th>\n",
       "      <td>0.810571</td>\n",
       "      <td>0.042693</td>\n",
       "    </tr>\n",
       "    <tr>\n",
       "      <th>top_5_drop_LLM</th>\n",
       "      <td>0.715143</td>\n",
       "      <td>0.057391</td>\n",
       "    </tr>\n",
       "    <tr>\n",
       "      <th>MRR_drop_LLM</th>\n",
       "      <td>0.572752</td>\n",
       "      <td>0.053860</td>\n",
       "    </tr>\n",
       "  </tbody>\n",
       "</table>\n",
       "</div>"
      ],
      "text/plain": [
       "                        mean       std\n",
       "top_30_HR_drop_LLM  0.907714  0.033684\n",
       "top_20_drop_LLM     0.870286  0.039556\n",
       "top_10_drop_LLM     0.810571  0.042693\n",
       "top_5_drop_LLM      0.715143  0.057391\n",
       "MRR_drop_LLM        0.572752  0.053860"
      ]
     },
     "execution_count": 86,
     "metadata": {},
     "output_type": "execute_result"
    }
   ],
   "source": [
    "df = test_res_drop_label_df\n",
    "summary = pd.DataFrame({\n",
    "    'mean': df.mean(),\n",
    "    'std': df.std(ddof=1)  # ddof=1 for sample standard deviation\n",
    "})\n",
    "\n",
    "summary"
   ]
  },
  {
   "cell_type": "code",
   "execution_count": 87,
   "id": "37452efe-ab23-4739-896a-b67f0bbd4582",
   "metadata": {},
   "outputs": [
    {
     "name": "stdout",
     "output_type": "stream",
     "text": [
      "HR30: t-statistic: 17.2772, p-value: 0.0000\n",
      "HR20: t-statistic: 19.1793, p-value: 0.0000\n",
      "HR10: t-statistic: 18.9379, p-value: 0.0000\n",
      "HR5: t-statistic: 18.2486, p-value: 0.0000\n",
      "MRR: t-statistic: 27.8167, p-value: 0.0000\n"
     ]
    }
   ],
   "source": [
    "# Paired t-test\n",
    "t_stat, p_value = stats.ttest_rel(test_res_full_df['top_30_HR_whole'], test_res_drop_label_df['top_30_HR_drop_LLM'])\n",
    "print(f\"HR30: t-statistic: {t_stat:.4f}, p-value: {p_value:.4f}\")\n",
    "t_stat, p_value = stats.ttest_rel(test_res_full_df['top_20_whole'], test_res_drop_label_df['top_20_drop_LLM'])\n",
    "print(f\"HR20: t-statistic: {t_stat:.4f}, p-value: {p_value:.4f}\")\n",
    "t_stat, p_value = stats.ttest_rel(test_res_full_df['top_10_whole'], test_res_drop_label_df['top_10_drop_LLM'])\n",
    "print(f\"HR10: t-statistic: {t_stat:.4f}, p-value: {p_value:.4f}\")\n",
    "t_stat, p_value = stats.ttest_rel(test_res_full_df['top_5_whole'], test_res_drop_label_df['top_5_drop_LLM'])\n",
    "print(f\"HR5: t-statistic: {t_stat:.4f}, p-value: {p_value:.4f}\")\n",
    "t_stat, p_value = stats.ttest_rel(test_res_full_df['MRR_whole'], test_res_drop_label_df['MRR_drop_LLM'])\n",
    "print(f\"MRR: t-statistic: {t_stat:.4f}, p-value: {p_value:.4f}\")\n"
   ]
  },
  {
   "cell_type": "code",
   "execution_count": 88,
   "id": "324adfcb",
   "metadata": {},
   "outputs": [
    {
     "name": "stdout",
     "output_type": "stream",
     "text": [
      "(0.0782857142857143, (0.06917999975140357, 0.08739142882002504))\n",
      "(0.1045714285714286, (0.09361461446546378, 0.11552824267739344))\n",
      "(0.11885714285714286, (0.10624471597576628, 0.13146956973851942))\n",
      "(0.15685714285714286, (0.13958365249648233, 0.1741306332178034))\n",
      "(0.1716958303194102, (0.15929191596498288, 0.1840997446738375))\n"
     ]
    }
   ],
   "source": [
    "print(mean_diff_ci(test_res_full_df['top_30_HR_whole'], test_res_drop_label_df['top_30_HR_drop_LLM'], confidence=0.95))\n",
    "print(mean_diff_ci(test_res_full_df['top_20_whole'], test_res_drop_label_df['top_20_drop_LLM'], confidence=0.95))\n",
    "print(mean_diff_ci(test_res_full_df['top_10_whole'], test_res_drop_label_df['top_10_drop_LLM'], confidence=0.95))\n",
    "print(mean_diff_ci(test_res_full_df['top_5_whole'], test_res_drop_label_df['top_5_drop_LLM'], confidence=0.95))\n",
    "print(mean_diff_ci(test_res_full_df['MRR_whole'], test_res_drop_label_df['MRR_drop_LLM'], confidence=0.95))"
   ]
  },
  {
   "cell_type": "code",
   "execution_count": null,
   "id": "13b92a2b-051a-414a-82ad-b9f6c926649b",
   "metadata": {},
   "outputs": [],
   "source": []
  }
 ],
 "metadata": {
  "kernelspec": {
   "display_name": "Python 3 (ipykernel)",
   "language": "python",
   "name": "python3"
  },
  "language_info": {
   "codemirror_mode": {
    "name": "ipython",
    "version": 3
   },
   "file_extension": ".py",
   "mimetype": "text/x-python",
   "name": "python",
   "nbconvert_exporter": "python",
   "pygments_lexer": "ipython3",
   "version": "3.12.4"
  },
  "toc": {
   "base_numbering": 1,
   "nav_menu": {},
   "number_sections": true,
   "sideBar": true,
   "skip_h1_title": false,
   "title_cell": "Table of Contents",
   "title_sidebar": "Contents",
   "toc_cell": false,
   "toc_position": {},
   "toc_section_display": true,
   "toc_window_display": false
  }
 },
 "nbformat": 4,
 "nbformat_minor": 5
}
